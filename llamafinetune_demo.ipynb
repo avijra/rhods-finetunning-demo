{
 "cells": [
  {
   "cell_type": "code",
   "execution_count": 4,
   "id": "5806e618-7751-4011-a8d4-21d0b08d21a9",
   "metadata": {},
   "outputs": [],
   "source": [
    "from codeflare_sdk.cluster.cluster import Cluster, ClusterConfiguration\n",
    "from codeflare_sdk.cluster.auth import TokenAuthentication"
   ]
  },
  {
   "cell_type": "code",
   "execution_count": 5,
   "id": "dd2cfffd-399f-4305-ba0a-f5fa63041904",
   "metadata": {},
   "outputs": [
    {
     "data": {
      "text/plain": [
       "'Logged into https://server:port'"
      ]
     },
     "execution_count": 5,
     "metadata": {},
     "output_type": "execute_result"
    }
   ],
   "source": [
    "auth = TokenAuthentication(\n",
    "    token = \"sha256~xxxxxxxxxxxxxxxxx\",\n",
    "    server = \"https://server:port\",\n",
    "    skip_tls=False\n",
    ")\n",
    "auth.login()"
   ]
  },
  {
   "cell_type": "code",
   "execution_count": 64,
   "id": "d9f81d59-a4fd-4420-8a83-8eeab9c74f5f",
   "metadata": {},
   "outputs": [
    {
     "name": "stdout",
     "output_type": "stream",
     "text": [
      "Written to: llamafinetuneloraclustertest.yaml\n"
     ]
    }
   ],
   "source": [
    "cluster = Cluster(ClusterConfiguration(\n",
    "    name='llamafinetuneloraclustertest',\n",
    "    namespace='default',\n",
    "    num_workers=1,\n",
    "    min_cpus=4,\n",
    "    max_cpus=4,\n",
    "    min_memory=96,\n",
    "    max_memory=96,\n",
    "    num_gpus=1,\n",
    "    image="quay.io/project-codeflare/ray:latest-py39-cu118",
    "    instascale=False, #<---instascale enabled\n",
    "    #machine_types=[\"m5.xlarge\", \"g4dn.xlarge\"],\n",
    "))"
   ]
  },
  {
   "cell_type": "code",
   "execution_count": 65,
   "id": "a7c4e2e7-2548-4156-a210-4c6131286db5",
   "metadata": {},
   "outputs": [],
   "source": [
    "cluster.up()"
   ]
  },
  {
   "cell_type": "code",
   "execution_count": 66,
   "id": "825eb394-45ec-48c4-863b-57d66c572b0f",
   "metadata": {},
   "outputs": [
    {
     "name": "stdout",
     "output_type": "stream",
     "text": [
      "Waiting for requested resources to be set up...\n",
      "Requested cluster and dashboard are up and running!\n"
     ]
    }
   ],
   "source": [
    "cluster.wait_ready()"
   ]
  },
  {
   "cell_type": "code",
   "execution_count": 67,
   "id": "5b45df65-7072-4e27-8713-f497cfd90b0a",
   "metadata": {},
   "outputs": [
    {
     "data": {
      "text/html": [
       "<pre style=\"white-space:pre;overflow-x:auto;line-height:normal;font-family:Menlo,'DejaVu Sans Mono',consolas,'Courier New',monospace\"><span style=\"font-style: italic\">                           </span><span style=\"font-weight: bold; font-style: italic\"> 🚀 CodeFlare Cluster Details 🚀</span><span style=\"font-style: italic\">                            </span>\n",
       "<span style=\"font-weight: bold\">                                                                                       </span>\n",
       " ╭───────────────────────────────────────────────────────────────────────────────────╮ \n",
       " │   <span style=\"color: #c0c0c0; text-decoration-color: #c0c0c0; background-color: #008000; font-weight: bold\">Name</span>                                                                            │ \n",
       " │   <span style=\"font-weight: bold; text-decoration: underline\">llamafinetuneloraclustertest</span>                                        Active ✅   │ \n",
       " │                                                                                   │ \n",
       " │   <span style=\"font-weight: bold\">URI:</span> ray://llamafinetuneloraclustertest-head-svc.default.svc:10001              │ \n",
       " │                                                                                   │ \n",
       " │   <a href=\"http://ray-dashboard-llamafinetuneloraclustertest-default.mycluster-au-syd-1-980357-d1e597e3b61b2cc757327b6bca11f2a6-0000.au-syd.containers.appdomain.cloud\" target=\"_blank\"><span style=\"color: #000080; text-decoration-color: #000080; text-decoration: underline\">Dashboard🔗</span></a>                                                                     │ \n",
       " │                                                                                   │ \n",
       " │  <span style=\"font-style: italic\">                     Cluster Resources                     </span>                      │ \n",
       " │   ╭── Workers ──╮  ╭───────── Worker specs(each) ─────────╮                       │ \n",
       " │   │ <span style=\"font-weight: bold\"> # Workers </span> │  │ <span style=\"font-weight: bold\"> Memory      CPU         GPU        </span> │                       │ \n",
       " │   │ <span style=\"color: #800080; text-decoration-color: #800080\">           </span> │  │ <span style=\"color: #008080; text-decoration-color: #008080\">            </span><span style=\"color: #800080; text-decoration-color: #800080\">                        </span> │                       │ \n",
       " │   │ <span style=\"color: #800080; text-decoration-color: #800080\"> 1         </span> │  │ <span style=\"color: #008080; text-decoration-color: #008080\"> 96~96      </span><span style=\"color: #800080; text-decoration-color: #800080\"> 4           1          </span> │                       │ \n",
       " │   │ <span style=\"color: #800080; text-decoration-color: #800080\">           </span> │  │ <span style=\"color: #008080; text-decoration-color: #008080\">            </span><span style=\"color: #800080; text-decoration-color: #800080\">                        </span> │                       │ \n",
       " │   ╰─────────────╯  ╰──────────────────────────────────────╯                       │ \n",
       " ╰───────────────────────────────────────────────────────────────────────────────────╯ \n",
       "</pre>\n"
      ],
      "text/plain": [
       "\u001b[3m                           \u001b[0m\u001b[1;3m 🚀 CodeFlare Cluster Details 🚀\u001b[0m\u001b[3m                            \u001b[0m\n",
       "\u001b[1m \u001b[0m\u001b[1m                                                                                     \u001b[0m\u001b[1m \u001b[0m\n",
       " ╭───────────────────────────────────────────────────────────────────────────────────╮ \n",
       " │   \u001b[1;37;42mName\u001b[0m                                                                            │ \n",
       " │   \u001b[1;4mllamafinetuneloraclustertest\u001b[0m                                        Active ✅   │ \n",
       " │                                                                                   │ \n",
       " │   \u001b[1mURI:\u001b[0m ray://llamafinetuneloraclustertest-head-svc.default.svc:10001              │ \n",
       " │                                                                                   │ \n",
       " │   \u001b]8;id=323135;http://ray-dashboard-llamafinetuneloraclustertest-default.mycluster-au-syd-1-980357-d1e597e3b61b2cc757327b6bca11f2a6-0000.au-syd.containers.appdomain.cloud\u001b\\\u001b[4;34mDashboard🔗\u001b[0m\u001b]8;;\u001b\\                                                                     │ \n",
       " │                                                                                   │ \n",
       " │  \u001b[3m                     Cluster Resources                     \u001b[0m                      │ \n",
       " │   ╭── Workers ──╮  ╭───────── Worker specs(each) ─────────╮                       │ \n",
       " │   │ \u001b[1m \u001b[0m\u001b[1m# Workers\u001b[0m\u001b[1m \u001b[0m │  │ \u001b[1m \u001b[0m\u001b[1mMemory    \u001b[0m\u001b[1m \u001b[0m\u001b[1m \u001b[0m\u001b[1mCPU       \u001b[0m\u001b[1m \u001b[0m\u001b[1m \u001b[0m\u001b[1mGPU       \u001b[0m\u001b[1m \u001b[0m │                       │ \n",
       " │   │ \u001b[35m \u001b[0m\u001b[35m         \u001b[0m\u001b[35m \u001b[0m │  │ \u001b[36m \u001b[0m\u001b[36m          \u001b[0m\u001b[36m \u001b[0m\u001b[35m \u001b[0m\u001b[35m          \u001b[0m\u001b[35m \u001b[0m\u001b[35m \u001b[0m\u001b[35m          \u001b[0m\u001b[35m \u001b[0m │                       │ \n",
       " │   │ \u001b[35m \u001b[0m\u001b[35m1        \u001b[0m\u001b[35m \u001b[0m │  │ \u001b[36m \u001b[0m\u001b[36m96~96     \u001b[0m\u001b[36m \u001b[0m\u001b[35m \u001b[0m\u001b[35m4         \u001b[0m\u001b[35m \u001b[0m\u001b[35m \u001b[0m\u001b[35m1         \u001b[0m\u001b[35m \u001b[0m │                       │ \n",
       " │   │ \u001b[35m \u001b[0m\u001b[35m         \u001b[0m\u001b[35m \u001b[0m │  │ \u001b[36m \u001b[0m\u001b[36m          \u001b[0m\u001b[36m \u001b[0m\u001b[35m \u001b[0m\u001b[35m          \u001b[0m\u001b[35m \u001b[0m\u001b[35m \u001b[0m\u001b[35m          \u001b[0m\u001b[35m \u001b[0m │                       │ \n",
       " │   ╰─────────────╯  ╰──────────────────────────────────────╯                       │ \n",
       " ╰───────────────────────────────────────────────────────────────────────────────────╯ \n"
      ]
     },
     "metadata": {},
     "output_type": "display_data"
    },
    {
     "data": {
      "text/plain": [
       "RayCluster(name='llamafinetuneloraclustertest', status=<RayClusterStatus.READY: 'ready'>, workers=1, worker_mem_min=96, worker_mem_max=96, worker_cpu=4, worker_gpu=1, namespace='default', dashboard='http://ray-dashboard-llamafinetuneloraclustertest-default.mycluster-au-syd-1-980357-d1e597e3b61b2cc757327b6bca11f2a6-0000.au-syd.containers.appdomain.cloud')"
      ]
     },
     "execution_count": 67,
     "metadata": {},
     "output_type": "execute_result"
    }
   ],
   "source": [
    "cluster.details()"
   ]
  },
  {
   "cell_type": "code",
   "execution_count": 53,
   "id": "59ff21a7-d27b-4cb7-babb-3c1cd6e3ec7b",
   "metadata": {},
   "outputs": [],
   "source": [
    "from codeflare_sdk.job.jobs import DDPJobDefinition"
   ]
  },
  {
   "cell_type": "code",
   "execution_count": 68,
   "id": "8e178b19-c7bb-4219-86ad-5678aeeb1453",
   "metadata": {},
   "outputs": [
    {
     "name": "stderr",
     "output_type": "stream",
     "text": [
      "The Ray scheduler does not support port mapping.\n"
     ]
    }
   ],
   "source": [
    "jobdef = DDPJobDefinition(\n",
    "    name=\"llamafinetunelora43\",\n",
    "    script=\"llmfinetune.py\",\n",
    "    #script_args=arg_list,\n",
    "    scheduler_args={\"requirements\": \"requirements.txt\"}\n",
    "    \n",
    "\n",
    ")\n",
    "job = jobdef.submit(cluster)"
   ]
  },
  {
   "cell_type": "code",
   "execution_count": 63,
   "id": "ad75cd0a-9db0-405c-8e54-25b9db47271a",
   "metadata": {},
   "outputs": [
    {
     "name": "stdout",
     "output_type": "stream",
     "text": [
      "No instances found, nothing to be done.\n"
     ]
    }
   ],
   "source": [
    "cluster.down()"
   ]
  },
  {
   "cell_type": "code",
   "execution_count": null,
   "id": "fecfb63b-cf1f-4eb3-a3b1-ba387e2f2d95",
   "metadata": {},
   "outputs": [],
   "source": []
  },
  {
   "cell_type": "code",
   "execution_count": null,
   "id": "1b27719b-4b8e-4f64-97f1-739dd4f83924",
   "metadata": {},
   "outputs": [],
   "source": []
  }
 ],
 "metadata": {
  "kernelspec": {
   "display_name": "Python 3 (ipykernel)",
   "language": "python",
   "name": "python3"
  },
  "language_info": {
   "codemirror_mode": {
    "name": "ipython",
    "version": 3
   },
   "file_extension": ".py",
   "mimetype": "text/x-python",
   "name": "python",
   "nbconvert_exporter": "python",
   "pygments_lexer": "ipython3",
   "version": "3.8.13"
  }
 },
 "nbformat": 4,
 "nbformat_minor": 5
}
